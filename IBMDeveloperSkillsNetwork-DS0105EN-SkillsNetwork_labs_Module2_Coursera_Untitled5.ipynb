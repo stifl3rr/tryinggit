{
  "metadata": {
    "language_info": {
      "codemirror_mode": {
        "name": "python",
        "version": 3
      },
      "file_extension": ".py",
      "mimetype": "text/x-python",
      "name": "python",
      "nbconvert_exporter": "python",
      "pygments_lexer": "ipython3",
      "version": "3.8"
    },
    "kernelspec": {
      "name": "python",
      "display_name": "Pyolite",
      "language": "python"
    }
  },
  "nbformat_minor": 4,
  "nbformat": 4,
  "cells": [
    {
      "cell_type": "markdown",
      "source": "# My Jupyter Notebook ",
      "metadata": {}
    },
    {
      "cell_type": "markdown",
      "source": "**name: Giampio** \n",
      "metadata": {}
    },
    {
      "cell_type": "markdown",
      "source": "welcome to this public notebook of mine. ",
      "metadata": {}
    },
    {
      "cell_type": "markdown",
      "source": "## Data Science Languages\nsome of the most popular:\n\n- Python\n- SQL\n- R\n",
      "metadata": {}
    },
    {
      "cell_type": "markdown",
      "source": "## Data Science Libraries\n- Pandas\n- Matplotlib\n- NumPy\n- Seaborn\n- Tensorflow\n- PyTorch\n- Scikit-learn",
      "metadata": {}
    },
    {
      "cell_type": "markdown",
      "source": "## Data Science Tools\n|Tool|Description|\n|----|----|\n|Jupyter Notebook| Open-source web-app that allows sharing of codes, visualization and text. |\n|GitHub | A web-based platform for version control |\n|Anaconda | A distribution of Python and R languages for ML workflows |\n|Apache Spark | Open-source, distributed computing system used in big data processing |\n|Tableu | Data visualization tool |",
      "metadata": {}
    },
    {
      "cell_type": "markdown",
      "source": "## Arithmetic Expressions\nexample:\n- '10/2' evaluates to 5.0\n",
      "metadata": {}
    },
    {
      "cell_type": "code",
      "source": "10/2",
      "metadata": {
        "trusted": true
      },
      "execution_count": 2,
      "outputs": [
        {
          "execution_count": 2,
          "output_type": "execute_result",
          "data": {
            "text/plain": "5.0"
          },
          "metadata": {}
        }
      ]
    },
    {
      "cell_type": "markdown",
      "source": "### Multiply two numbers",
      "metadata": {}
    },
    {
      "cell_type": "code",
      "source": "a = 5\nb = 3\nc = a*b\nprint(c)",
      "metadata": {
        "trusted": true
      },
      "execution_count": 4,
      "outputs": [
        {
          "name": "stdout",
          "text": "15\n",
          "output_type": "stream"
        }
      ]
    },
    {
      "cell_type": "markdown",
      "source": "### Add two numbers",
      "metadata": {}
    },
    {
      "cell_type": "code",
      "source": "a = 5\nb = 3\nc = a+b\nprint(c)",
      "metadata": {
        "trusted": true
      },
      "execution_count": 5,
      "outputs": [
        {
          "name": "stdout",
          "text": "8\n",
          "output_type": "stream"
        }
      ]
    },
    {
      "cell_type": "markdown",
      "source": "### Converting minutes to hours",
      "metadata": {}
    },
    {
      "cell_type": "code",
      "source": "minutes = 135\nhours = minutes / 60\nprint(hours)",
      "metadata": {
        "trusted": true
      },
      "execution_count": 6,
      "outputs": [
        {
          "name": "stdout",
          "text": "2.25\n",
          "output_type": "stream"
        }
      ]
    },
    {
      "cell_type": "markdown",
      "source": "## Objectives\n- Explore and gain insights from data\n- Preprocess and prepare the data for modeling\n- Train a machine learning model\n- Evaluate the model's performance\n- Provide recommendations based on the analysis",
      "metadata": {}
    },
    {
      "cell_type": "code",
      "source": "",
      "metadata": {},
      "execution_count": null,
      "outputs": []
    }
  ]
}